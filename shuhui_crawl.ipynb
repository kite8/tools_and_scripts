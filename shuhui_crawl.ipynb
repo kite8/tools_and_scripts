{
 "cells": [
  {
   "cell_type": "code",
   "execution_count": 2,
   "metadata": {},
   "outputs": [],
   "source": [
    "import requests\n",
    "import re\n",
    "import json\n",
    "import numpy as np\n",
    "import pandas as pd\n",
    "from tqdm import tqdm_notebook"
   ]
  },
  {
   "cell_type": "code",
   "execution_count": 3,
   "metadata": {},
   "outputs": [],
   "source": [
    "Sess = requests.Session()"
   ]
  },
  {
   "cell_type": "code",
   "execution_count": 4,
   "metadata": {},
   "outputs": [],
   "source": [
    "# url = 'https://www.ishuhui.com/comics/detail/4978'\n",
    "url = 'https://prod-api.ishuhui.com/ver/8a175090/comics/detail'"
   ]
  },
  {
   "cell_type": "code",
   "execution_count": 5,
   "metadata": {},
   "outputs": [],
   "source": [
    "agent = 'Mozilla/5.0 (Windows NT 6.1; WOW64) AppleWebKit/537.36 (KHTML, like Gecko) Chrome/62.0.3202.89 Safari/537.36'"
   ]
  },
  {
   "cell_type": "code",
   "execution_count": 6,
   "metadata": {},
   "outputs": [],
   "source": [
    "header = {'User-Agent':agent}"
   ]
  },
  {
   "cell_type": "code",
   "execution_count": 7,
   "metadata": {},
   "outputs": [],
   "source": [
    "params = {\n",
    "    'id':'1',\n",
    "    '.json':''\n",
    "}"
   ]
  },
  {
   "cell_type": "code",
   "execution_count": 8,
   "metadata": {},
   "outputs": [],
   "source": [
    "# html = Sess.get(url, headers=header, params=params)"
   ]
  },
  {
   "cell_type": "code",
   "execution_count": 14,
   "metadata": {},
   "outputs": [
    {
     "data": {
      "text/plain": [
       "androidShowComics                                                     \n",
       "animeID                                                             11\n",
       "animeName                                                           獵人\n",
       "authorID                                                             3\n",
       "authorName                                                        snow\n",
       "authorizeComics                                                       \n",
       "chapter                                                           None\n",
       "contentAfter                                                          \n",
       "contentBefore                                                         \n",
       "contentImg           [{'url': 'http://oss.ishuhui.com/oldImg/cartoo...\n",
       "id                                                                4978\n",
       "imgBed                                                            None\n",
       "iosShowComics                                                         \n",
       "isImgBed                                                             0\n",
       "needLogin                                                            0\n",
       "numberEnd                                                          360\n",
       "numberStart                                                        360\n",
       "partID                                                               1\n",
       "partName                                                            正篇\n",
       "sourceID                                                             1\n",
       "sourceName                                                        鼠绘漫画\n",
       "sticky                                                               0\n",
       "time                                                     1467308801000\n",
       "title                                                               寄生\n",
       "updateTime                                               1467308801000\n",
       "url                                                                   \n",
       "wxShowComics                                                         1\n",
       "Name: data, dtype: object"
      ]
     },
     "execution_count": 14,
     "metadata": {},
     "output_type": "execute_result"
    }
   ],
   "source": [
    "# pd.read_json(html.text).T.loc['data',:]"
   ]
  },
  {
   "cell_type": "code",
   "execution_count": 9,
   "metadata": {},
   "outputs": [
    {
     "data": {
      "application/vnd.jupyter.widget-view+json": {
       "model_id": "0aefc97c555b4fc491faff72c68ce1d9",
       "version_major": 2,
       "version_minor": 0
      },
      "text/plain": [
       "HBox(children=(IntProgress(value=0, max=11199), HTML(value='')))"
      ]
     },
     "metadata": {},
     "output_type": "display_data"
    },
    {
     "name": "stdout",
     "output_type": "stream",
     "text": [
      "\n"
     ]
    }
   ],
   "source": [
    "df = pd.DataFrame()\n",
    "err_code = []\n",
    "lens = len(range(1, 11200))\n",
    "\n",
    "with tqdm_notebook(total=lens) as pbar:\n",
    "\n",
    "    for i in range(1, 11200):\n",
    "#     for i in range(1, 100):\n",
    "#         pbar.set_description('获取漫画页面数据')\n",
    "        pbar.set_description('{}'.format(i))\n",
    "        params.update({'id':str(i)})\n",
    "        try:\n",
    "            html = Sess.get(url, headers=header, params=params)\n",
    "            temp = pd.read_json(html.text).T.loc['data',:]\n",
    "        except:\n",
    "            err_code.append(i)\n",
    "            print('index %s has some trouble' % i)\n",
    "            continue\n",
    "        df = pd.concat([df, temp], axis=1, sort=True)\n",
    "        pbar.update(1)\n",
    "\n",
    "        if i == lens - 1:\n",
    "            pbar.set_description('完成')\n",
    "    \n",
    "df = df.T"
   ]
  },
  {
   "cell_type": "code",
   "execution_count": 11,
   "metadata": {},
   "outputs": [],
   "source": [
    "writer = pd.ExcelWriter('鼠绘漫画列表.xlsx')\n",
    "df.to_excel(writer)\n",
    "writer.save()"
   ]
  }
 ],
 "metadata": {
  "kernelspec": {
   "display_name": "Python (quant)",
   "language": "python",
   "name": "quant"
  },
  "language_info": {
   "codemirror_mode": {
    "name": "ipython",
    "version": 3
   },
   "file_extension": ".py",
   "mimetype": "text/x-python",
   "name": "python",
   "nbconvert_exporter": "python",
   "pygments_lexer": "ipython3",
   "version": "3.6.6"
  },
  "toc": {
   "base_numbering": 1,
   "nav_menu": {},
   "number_sections": true,
   "sideBar": true,
   "skip_h1_title": false,
   "title_cell": "Table of Contents",
   "title_sidebar": "Contents",
   "toc_cell": false,
   "toc_position": {},
   "toc_section_display": true,
   "toc_window_display": false
  },
  "varInspector": {
   "cols": {
    "lenName": 16,
    "lenType": 16,
    "lenVar": 40
   },
   "kernels_config": {
    "python": {
     "delete_cmd_postfix": "",
     "delete_cmd_prefix": "del ",
     "library": "var_list.py",
     "varRefreshCmd": "print(var_dic_list())"
    },
    "r": {
     "delete_cmd_postfix": ") ",
     "delete_cmd_prefix": "rm(",
     "library": "var_list.r",
     "varRefreshCmd": "cat(var_dic_list()) "
    }
   },
   "types_to_exclude": [
    "module",
    "function",
    "builtin_function_or_method",
    "instance",
    "_Feature"
   ],
   "window_display": false
  }
 },
 "nbformat": 4,
 "nbformat_minor": 2
}
